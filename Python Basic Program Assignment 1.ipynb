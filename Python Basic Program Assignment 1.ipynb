{
 "cells": [
  {
   "cell_type": "code",
   "execution_count": 6,
   "id": "e8152dda",
   "metadata": {},
   "outputs": [
    {
     "name": "stdout",
     "output_type": "stream",
     "text": [
      "\"Hello Python\"\n"
     ]
    }
   ],
   "source": [
    "# 1. Write a Python program to print \"Hello Python\"?\n",
    "# Ans:\n",
    "\n",
    "print('\"Hello Python\"')"
   ]
  },
  {
   "cell_type": "code",
   "execution_count": 7,
   "id": "be0df6ab",
   "metadata": {},
   "outputs": [
    {
     "name": "stdout",
     "output_type": "stream",
     "text": [
      "30\n",
      "0.5\n"
     ]
    }
   ],
   "source": [
    "# 2 Write a Python program to do arithmetical operations addition and division.?\n",
    "\n",
    "# Ans:\n",
    "a=10\n",
    "b=20\n",
    "\n",
    "# Addition \n",
    "print(a+b)\n",
    "\n",
    "# Division\n",
    "\n",
    "print(a/b)"
   ]
  },
  {
   "cell_type": "code",
   "execution_count": null,
   "id": "f88e99ee",
   "metadata": {},
   "outputs": [],
   "source": [
    "# 3 Write a Python program to find the area of a triangle?"
   ]
  },
  {
   "cell_type": "code",
   "execution_count": 9,
   "id": "5eaca105",
   "metadata": {},
   "outputs": [],
   "source": [
    "# Ans:\n",
    "# Here height of triangle h=10m, base of triangle  b= 15m and find the Area of tirangle \n",
    "# Formula Area of triangle = (1/2)*height*base\n",
    "h=10 # in meter\n",
    "b=15 # in meter\n",
    "\n",
    "A=(h*b)/2"
   ]
  },
  {
   "cell_type": "code",
   "execution_count": 12,
   "id": "67ad360a",
   "metadata": {},
   "outputs": [
    {
     "name": "stdout",
     "output_type": "stream",
     "text": [
      "Area of Triangle is  75.0 square meter  \n"
     ]
    }
   ],
   "source": [
    "print(\"Area of Triangle is \",A ,\"square meter  \")"
   ]
  },
  {
   "cell_type": "code",
   "execution_count": 14,
   "id": "998ecf5a",
   "metadata": {},
   "outputs": [
    {
     "name": "stdout",
     "output_type": "stream",
     "text": [
      "The value Before Swap a= 15 And b= 10\n",
      "The value After Swap a= 10 And b= 15\n"
     ]
    }
   ],
   "source": [
    "# 4 Write a Python program to swap two variables?\n",
    "# Ans:\n",
    "\n",
    "# Assume a=10, b=20 to swap \n",
    "print(\"The value Before Swap a=\",a,\"And b=\",b)\n",
    "temp=a\n",
    "a=b\n",
    "b=temp\n",
    "\n",
    "print(\"The value After Swap a=\",a,\"And b=\",b)"
   ]
  },
  {
   "cell_type": "code",
   "execution_count": 25,
   "id": "5985bfde",
   "metadata": {},
   "outputs": [
    {
     "name": "stdout",
     "output_type": "stream",
     "text": [
      "0.31933772048026376\n"
     ]
    }
   ],
   "source": [
    "# 5 Write a Python program to generate a random number?\n",
    "# Ans :\n",
    "   \n",
    "import random\n",
    "\n",
    "random_number=random.random()\n",
    "\n",
    "print(random_number)\n",
    "\n",
    "# print(type(random_number))"
   ]
  },
  {
   "cell_type": "code",
   "execution_count": null,
   "id": "1f481a25",
   "metadata": {},
   "outputs": [],
   "source": []
  }
 ],
 "metadata": {
  "kernelspec": {
   "display_name": "Python 3 (ipykernel)",
   "language": "python",
   "name": "python3"
  },
  "language_info": {
   "codemirror_mode": {
    "name": "ipython",
    "version": 3
   },
   "file_extension": ".py",
   "mimetype": "text/x-python",
   "name": "python",
   "nbconvert_exporter": "python",
   "pygments_lexer": "ipython3",
   "version": "3.9.13"
  }
 },
 "nbformat": 4,
 "nbformat_minor": 5
}
